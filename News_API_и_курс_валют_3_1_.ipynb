{
  "nbformat": 4,
  "nbformat_minor": 0,
  "metadata": {
    "colab": {
      "provenance": []
    },
    "kernelspec": {
      "name": "python3",
      "display_name": "Python 3"
    },
    "language_info": {
      "name": "python"
    }
  },
  "cells": [
    {
      "cell_type": "code",
      "execution_count": null,
      "metadata": {
        "id": "iM8b3nPRJZDE"
      },
      "outputs": [],
      "source": []
    },
    {
      "cell_type": "code",
      "source": [
        "import requests\n",
        "\n",
        "def get_news():\n",
        "    # Спрашиваем у пользователя, на какую тему он хочет найти новости\n",
        "    topic = input(\"Введите тему, по которой хотите найти новости: \")\n",
        "\n",
        "    # Вставьте ваш реальный API-ключ от News API\n",
        "    API_KEY = \"b26ac0f7037845558ac187a6db1226ba\"\n",
        "\n",
        "    # Задаем URL и параметры запроса\n",
        "    url = \"https://newsapi.org/v2/everything\"\n",
        "    params = {\n",
        "        \"q\": topic,\n",
        "        \"apiKey\": API_KEY,\n",
        "        \"language\": \"ru\",  # Используем русский язык, можно поменять на \"en\" для английских новостей\n",
        "        \"pageSize\": 5      # Ограничиваем до 5 новостей\n",
        "    }\n",
        "\n",
        "    try:\n",
        "        # Отправляем запрос к API\n",
        "        response = requests.get(url, params=params)\n",
        "        response.raise_for_status()  # Проверяем статус ответа\n",
        "        data = response.json()       # Декодируем JSON\n",
        "\n",
        "        # Проверяем, есть ли новости в ответе\n",
        "        if data.get(\"totalResults\", 0) > 0:\n",
        "            print(f\"Найдено {min(data['totalResults'], 5)} новостей по теме '{topic}':\")\n",
        "            for i, article in enumerate(data[\"articles\"][:5], start=1):\n",
        "                print(f\"\\nНовость {i}:\")\n",
        "                print(\"Заголовок:\", article.get(\"title\", \"Нет заголовка\"))\n",
        "                print(\"Описание:\", article.get(\"description\", \"Нет описания\"))\n",
        "                print(\"Ссылка:\", article.get(\"url\", \"Нет ссылки\"))\n",
        "        else:\n",
        "            print(f\"По теме '{topic}' ничего не найдено.\")\n",
        "\n",
        "    except requests.exceptions.RequestException as e:\n",
        "        print(\"Произошла ошибка с подключением или запросом к API:\", e)\n",
        "    except ValueError:\n",
        "        print(\"Произошла ошибка при обработке данных ответа. Проверьте данные запроса.\")\n",
        "    except KeyError:\n",
        "        print(\"Некорректный формат данных в ответе от сервера.\")\n",
        "\n",
        "# Запускаем функцию\n",
        "get_news()"
      ],
      "metadata": {
        "colab": {
          "base_uri": "https://localhost:8080/"
        },
        "id": "6GBTRqvdJagA",
        "outputId": "23b41eb0-36e8-4e58-ff77-dfbb286342a6"
      },
      "execution_count": null,
      "outputs": [
        {
          "output_type": "stream",
          "name": "stdout",
          "text": [
            "Введите тему, по которой хотите найти новости: ключевая ставка\n",
            "Найдено 5 новостей по теме 'ключевая ставка':\n",
            "\n",
            "Новость 1:\n",
            "Заголовок: Политика Банка России привлекла внимание Счетной палаты\n",
            "Описание: Счетная палата (СП) России изучит, как ключевая ставка повлияла на экономику страны. Это пообещал руководитель данного ведомства Борис Ковальчук\n",
            "Ссылка: https://lenta.ru/news/2025/03/20/politika-banka-rossii-privlekla-vnimanie-schetnoy-palaty/\n",
            "\n",
            "Новость 2:\n",
            "Заголовок: Ставкам по ипотеке предрекли снижение\n",
            "Описание: Российские банки вслед за Сбербанком и ВТБ начнут плавно снижать ставки по рыночной ипотеке, если ключевая ставка Центробанка сохранится на нынешнем уровне либо будет постепенно уменьшаться. Соответствующий прогноз дали эксперты рынка недвижимости, опрошенные…\n",
            "Ссылка: https://lenta.ru/news/2025/03/04/stavkam-po-ipoteke-predrekli-snizhenie/\n",
            "\n",
            "Новость 3:\n",
            "Заголовок: Эксперт раскрыл, какой будет ключевая ставка после 21 марта\n",
            "Описание: На заседании Центробанка, которое запланировано на 21 марта, вероятнее всего, будет принято решение о сохранении ключевой ставки на уровне 21%, полагает доцент Финансового университета при Правительстве РФ Пётр Щербаченко. Он обратил внимание на постепенное с…\n",
            "Ссылка: https://life.ru/p/1736015\n",
            "\n",
            "Новость 4:\n",
            "Заголовок: Аксаков полагает, что ключевая ставка сохранится на прежнем уровне\n",
            "Описание: Ключевая ставка Центробанка, предположительно, сохранится на том же уровне, заявил глава комитета Госдумы по финансовому рынку Анатолий Аксаков на форуме. Однако имеются факторы как для её повышения, так и для её снижения.\n",
            "Ссылка: https://life.ru/p/1734967\n",
            "\n",
            "Новость 5:\n",
            "Заголовок: Центробанк рассказал, в каком случае может вырасти ключевая ставка\n",
            "Описание: Центробанк опубликовал на своем сайте сообщение, в котором объясняется, сколько будет длиться период жесткой денежно-кредитной политики.\n",
            "Ссылка: https://rg.ru/2025/03/24/centrobank-rasskazal-v-kakom-sluchae-mozhet-vyrasti-kliuchevaia-stavka.html\n"
          ]
        }
      ]
    },
    {
      "cell_type": "code",
      "source": [
        "import requests\n",
        "\n",
        "def main():\n",
        "    print(\"📈 Узнайте курс валют (с использованием API-ключа)\\n\")\n",
        "\n",
        "    # ⚠️ Вставьте свой API-ключ здесь:\n",
        "    api_key = \"05866bcd3b486cfeab6d290c\"  # ← замени на реальный ключ\n",
        "\n",
        "    base_currency = input(\"Введите базовую валюту (например, USD): \").upper()\n",
        "    target_currency = input(\"Введите валюту, в которую хотите конвертировать (например, EUR): \").upper()\n",
        "\n",
        "    # 🔗 URL для запроса к API\n",
        "    url = f\"https://v6.exchangerate-api.com/v6/{api_key}/latest/{base_currency}\"\n",
        "\n",
        "    try:\n",
        "        response = requests.get(url)\n",
        "        response.raise_for_status()\n",
        "        data = response.json()\n",
        "\n",
        "        # Проверка статуса ответа\n",
        "        if data.get(\"result\") == \"success\":\n",
        "            rate = data[\"conversion_rates\"].get(target_currency)\n",
        "            if rate:\n",
        "                print(f\"\\n✅ 1 {base_currency} = {rate:.4f} {target_currency}\")\n",
        "            else:\n",
        "                print(f\"❌ Валюта {target_currency} не найдена в ответе API.\")\n",
        "        else:\n",
        "            print(\"❌ Ошибка: неверный API-ключ или базовая валюта.\")\n",
        "\n",
        "    except requests.exceptions.RequestException as e:\n",
        "        print(f\"⚠️ Ошибка подключения: {e}\")\n",
        "    except Exception as e:\n",
        "        print(f\"⚠️ Произошла ошибка: {e}\")\n",
        "\n",
        "if __name__ == \"__main__\":\n",
        "    main()\n"
      ],
      "metadata": {
        "colab": {
          "base_uri": "https://localhost:8080/"
        },
        "id": "sv0OM0OKLb6M",
        "outputId": "f125e20f-ea36-46c8-fb3b-917b96883531"
      },
      "execution_count": null,
      "outputs": [
        {
          "output_type": "stream",
          "name": "stdout",
          "text": [
            "📈 Узнайте курс валют (с использованием API-ключа)\n",
            "\n",
            "Введите базовую валюту (например, USD): USD\n",
            "Введите валюту, в которую хотите конвертировать (например, EUR): RUB\n",
            "\n",
            "✅ 1 USD = 84.6067 RUB\n"
          ]
        }
      ]
    }
  ]
}